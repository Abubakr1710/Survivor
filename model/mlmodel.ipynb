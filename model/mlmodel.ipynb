{
 "cells": [
  {
   "attachments": {},
   "cell_type": "markdown",
   "metadata": {},
   "source": [
    "# *Machine Learning with Python*"
   ]
  },
  {
   "cell_type": "code",
   "execution_count": 7,
   "metadata": {},
   "outputs": [],
   "source": [
    "import numpy as np # Library for linear algebra and mathematics\n",
    "import pandas as pd # Library for data manipulation"
   ]
  },
  {
   "cell_type": "code",
   "execution_count": 8,
   "metadata": {},
   "outputs": [
    {
     "data": {
      "text/html": [
       "<div>\n",
       "<style scoped>\n",
       "    .dataframe tbody tr th:only-of-type {\n",
       "        vertical-align: middle;\n",
       "    }\n",
       "\n",
       "    .dataframe tbody tr th {\n",
       "        vertical-align: top;\n",
       "    }\n",
       "\n",
       "    .dataframe thead th {\n",
       "        text-align: right;\n",
       "    }\n",
       "</style>\n",
       "<table border=\"1\" class=\"dataframe\">\n",
       "  <thead>\n",
       "    <tr style=\"text-align: right;\">\n",
       "      <th></th>\n",
       "      <th>Survived</th>\n",
       "      <th>Pclass</th>\n",
       "      <th>Age</th>\n",
       "      <th>SibSp</th>\n",
       "      <th>Parch</th>\n",
       "      <th>Gender</th>\n",
       "      <th>Embarked_C</th>\n",
       "      <th>Embarked_Q</th>\n",
       "      <th>Embarked_S</th>\n",
       "    </tr>\n",
       "  </thead>\n",
       "  <tbody>\n",
       "    <tr>\n",
       "      <th>0</th>\n",
       "      <td>0</td>\n",
       "      <td>3</td>\n",
       "      <td>22.0</td>\n",
       "      <td>1</td>\n",
       "      <td>0</td>\n",
       "      <td>1</td>\n",
       "      <td>0</td>\n",
       "      <td>0</td>\n",
       "      <td>1</td>\n",
       "    </tr>\n",
       "    <tr>\n",
       "      <th>1</th>\n",
       "      <td>1</td>\n",
       "      <td>1</td>\n",
       "      <td>38.0</td>\n",
       "      <td>1</td>\n",
       "      <td>0</td>\n",
       "      <td>0</td>\n",
       "      <td>1</td>\n",
       "      <td>0</td>\n",
       "      <td>0</td>\n",
       "    </tr>\n",
       "    <tr>\n",
       "      <th>2</th>\n",
       "      <td>1</td>\n",
       "      <td>3</td>\n",
       "      <td>26.0</td>\n",
       "      <td>0</td>\n",
       "      <td>0</td>\n",
       "      <td>0</td>\n",
       "      <td>0</td>\n",
       "      <td>0</td>\n",
       "      <td>1</td>\n",
       "    </tr>\n",
       "    <tr>\n",
       "      <th>3</th>\n",
       "      <td>1</td>\n",
       "      <td>1</td>\n",
       "      <td>35.0</td>\n",
       "      <td>1</td>\n",
       "      <td>0</td>\n",
       "      <td>0</td>\n",
       "      <td>0</td>\n",
       "      <td>0</td>\n",
       "      <td>1</td>\n",
       "    </tr>\n",
       "    <tr>\n",
       "      <th>4</th>\n",
       "      <td>0</td>\n",
       "      <td>3</td>\n",
       "      <td>35.0</td>\n",
       "      <td>0</td>\n",
       "      <td>0</td>\n",
       "      <td>1</td>\n",
       "      <td>0</td>\n",
       "      <td>0</td>\n",
       "      <td>1</td>\n",
       "    </tr>\n",
       "  </tbody>\n",
       "</table>\n",
       "</div>"
      ],
      "text/plain": [
       "   Survived  Pclass   Age  SibSp  Parch  Gender  Embarked_C  Embarked_Q   \n",
       "0         0       3  22.0      1      0       1           0           0  \\\n",
       "1         1       1  38.0      1      0       0           1           0   \n",
       "2         1       3  26.0      0      0       0           0           0   \n",
       "3         1       1  35.0      1      0       0           0           0   \n",
       "4         0       3  35.0      0      0       1           0           0   \n",
       "\n",
       "   Embarked_S  \n",
       "0           1  \n",
       "1           0  \n",
       "2           1  \n",
       "3           1  \n",
       "4           1  "
      ]
     },
     "execution_count": 8,
     "metadata": {},
     "output_type": "execute_result"
    }
   ],
   "source": [
    "df = pd.read_csv('../Data Analysis/Data/train_cleaned.csv') # Read the data from the csv file\n",
    "df.head() # Display the first 5 rows of the data"
   ]
  },
  {
   "cell_type": "code",
   "execution_count": 9,
   "metadata": {},
   "outputs": [],
   "source": [
    "X, y = df.drop('Survived', axis=1), df['Survived'] # Split the data into features and target"
   ]
  },
  {
   "cell_type": "code",
   "execution_count": 10,
   "metadata": {},
   "outputs": [],
   "source": [
    "from sklearn.model_selection import train_test_split # Import the train_test_split function from the sklearn library"
   ]
  },
  {
   "cell_type": "code",
   "execution_count": 11,
   "metadata": {},
   "outputs": [],
   "source": [
    "X_train, X_test, y_train, y_test = train_test_split(X, y, test_size=0.2, random_state=42) # Split the data into training and testing sets"
   ]
  },
  {
   "cell_type": "code",
   "execution_count": 12,
   "metadata": {},
   "outputs": [],
   "source": [
    "#Normalize the data using standard scaler\n",
    "from sklearn.preprocessing import StandardScaler\n",
    "scaler = StandardScaler()\n",
    "X_train = scaler.fit_transform(X_train)\n",
    "X_test = scaler.transform(X_test)"
   ]
  },
  {
   "cell_type": "code",
   "execution_count": 13,
   "metadata": {},
   "outputs": [],
   "source": [
    "#modelling \n",
    "from sklearn.linear_model import LogisticRegression\n",
    "from sklearn.neighbors import KNeighborsClassifier\n",
    "from sklearn.tree import DecisionTreeClassifier\n",
    "from sklearn.ensemble import RandomForestClassifier\n",
    "from sklearn.svm import SVC\n",
    "from sklearn.naive_bayes import GaussianNB\n",
    "from sklearn.ensemble import GradientBoostingClassifier\n",
    "from sklearn.ensemble import AdaBoostClassifier\n",
    "from sklearn.ensemble import BaggingClassifier\n",
    "from sklearn.ensemble import ExtraTreesClassifier"
   ]
  },
  {
   "cell_type": "code",
   "execution_count": 14,
   "metadata": {},
   "outputs": [],
   "source": [
    "estimators = {\n",
    "    'Logistic Regression': LogisticRegression(),\n",
    "    'KNN': KNeighborsClassifier(),\n",
    "    'Decision Tree': DecisionTreeClassifier(),\n",
    "    'Random Forest': RandomForestClassifier(n_estimators=100),\n",
    "    'SVM': SVC(),\n",
    "    'Naive Bayes': GaussianNB(),\n",
    "    'Gradient Boosting': GradientBoostingClassifier(n_estimators=150),\n",
    "    'Ada Boost': AdaBoostClassifier(),\n",
    "    'Bagging': BaggingClassifier(),\n",
    "    'Extra Trees': ExtraTreesClassifier()\n",
    "}"
   ]
  },
  {
   "cell_type": "code",
   "execution_count": 15,
   "metadata": {},
   "outputs": [],
   "source": [
    "from sklearn.model_selection import StratifiedKFold\n",
    "from sklearn.metrics import confusion_matrix\n",
    "from sklearn.metrics import accuracy_score\n",
    "from sklearn.model_selection import cross_val_score\n",
    "from sklearn.metrics import classification_report"
   ]
  },
  {
   "cell_type": "code",
   "execution_count": 16,
   "metadata": {},
   "outputs": [],
   "source": [
    "from sklearn import metrics\n",
    "import time"
   ]
  },
  {
   "cell_type": "code",
   "execution_count": 17,
   "metadata": {},
   "outputs": [
    {
     "data": {
      "text/html": [
       "<style type=\"text/css\">\n",
       "#T_77a29_row0_col1, #T_77a29_row0_col2, #T_77a29_row1_col1, #T_77a29_row1_col2, #T_77a29_row2_col1, #T_77a29_row2_col2, #T_77a29_row3_col1, #T_77a29_row3_col2, #T_77a29_row4_col1, #T_77a29_row4_col2, #T_77a29_row5_col1, #T_77a29_row5_col2, #T_77a29_row6_col1, #T_77a29_row6_col2, #T_77a29_row7_col1, #T_77a29_row7_col2, #T_77a29_row8_col1, #T_77a29_row8_col2 {\n",
       "  width: 10em;\n",
       "  background: linear-gradient(90deg, #5fba7d 0.2%, transparent 0.2%);\n",
       "}\n",
       "#T_77a29_row9_col1, #T_77a29_row9_col2 {\n",
       "  width: 10em;\n",
       "  background: linear-gradient(90deg, #5fba7d 0.3%, transparent 0.3%);\n",
       "}\n",
       "</style>\n",
       "<table id=\"T_77a29\">\n",
       "  <thead>\n",
       "    <tr>\n",
       "      <th class=\"blank level0\" >&nbsp;</th>\n",
       "      <th id=\"T_77a29_level0_col0\" class=\"col_heading level0 col0\" >Model</th>\n",
       "      <th id=\"T_77a29_level0_col1\" class=\"col_heading level0 col1\" >MSE</th>\n",
       "      <th id=\"T_77a29_level0_col2\" class=\"col_heading level0 col2\" >MAE</th>\n",
       "      <th id=\"T_77a29_level0_col3\" class=\"col_heading level0 col3\" > % error</th>\n",
       "      <th id=\"T_77a29_level0_col4\" class=\"col_heading level0 col4\" >Accuracy Score</th>\n",
       "      <th id=\"T_77a29_level0_col5\" class=\"col_heading level0 col5\" >Time</th>\n",
       "    </tr>\n",
       "  </thead>\n",
       "  <tbody>\n",
       "    <tr>\n",
       "      <th id=\"T_77a29_level0_row0\" class=\"row_heading level0 row0\" >1</th>\n",
       "      <td id=\"T_77a29_row0_col0\" class=\"data row0 col0\" >Gradient Boosting</td>\n",
       "      <td id=\"T_77a29_row0_col1\" class=\"data row0 col1\" >0.162921</td>\n",
       "      <td id=\"T_77a29_row0_col2\" class=\"data row0 col2\" >0.162921</td>\n",
       "      <td id=\"T_77a29_row0_col3\" class=\"data row0 col3\" >0.162921</td>\n",
       "      <td id=\"T_77a29_row0_col4\" class=\"data row0 col4\" >0.837079</td>\n",
       "      <td id=\"T_77a29_row0_col5\" class=\"data row0 col5\" >0.140649</td>\n",
       "    </tr>\n",
       "    <tr>\n",
       "      <th id=\"T_77a29_level0_row1\" class=\"row_heading level0 row1\" >2</th>\n",
       "      <td id=\"T_77a29_row1_col0\" class=\"data row1 col0\" >SVM</td>\n",
       "      <td id=\"T_77a29_row1_col1\" class=\"data row1 col1\" >0.185393</td>\n",
       "      <td id=\"T_77a29_row1_col2\" class=\"data row1 col2\" >0.185393</td>\n",
       "      <td id=\"T_77a29_row1_col3\" class=\"data row1 col3\" >0.185393</td>\n",
       "      <td id=\"T_77a29_row1_col4\" class=\"data row1 col4\" >0.814607</td>\n",
       "      <td id=\"T_77a29_row1_col5\" class=\"data row1 col5\" >0.015945</td>\n",
       "    </tr>\n",
       "    <tr>\n",
       "      <th id=\"T_77a29_level0_row2\" class=\"row_heading level0 row2\" >3</th>\n",
       "      <td id=\"T_77a29_row2_col0\" class=\"data row2 col0\" >Random Forest</td>\n",
       "      <td id=\"T_77a29_row2_col1\" class=\"data row2 col1\" >0.191011</td>\n",
       "      <td id=\"T_77a29_row2_col2\" class=\"data row2 col2\" >0.191011</td>\n",
       "      <td id=\"T_77a29_row2_col3\" class=\"data row2 col3\" >0.191011</td>\n",
       "      <td id=\"T_77a29_row2_col4\" class=\"data row2 col4\" >0.808989</td>\n",
       "      <td id=\"T_77a29_row2_col5\" class=\"data row2 col5\" >0.167586</td>\n",
       "    </tr>\n",
       "    <tr>\n",
       "      <th id=\"T_77a29_level0_row3\" class=\"row_heading level0 row3\" >4</th>\n",
       "      <td id=\"T_77a29_row3_col0\" class=\"data row3 col0\" >Ada Boost</td>\n",
       "      <td id=\"T_77a29_row3_col1\" class=\"data row3 col1\" >0.191011</td>\n",
       "      <td id=\"T_77a29_row3_col2\" class=\"data row3 col2\" >0.191011</td>\n",
       "      <td id=\"T_77a29_row3_col3\" class=\"data row3 col3\" >0.191011</td>\n",
       "      <td id=\"T_77a29_row3_col4\" class=\"data row3 col4\" >0.808989</td>\n",
       "      <td id=\"T_77a29_row3_col5\" class=\"data row3 col5\" >0.078792</td>\n",
       "    </tr>\n",
       "    <tr>\n",
       "      <th id=\"T_77a29_level0_row4\" class=\"row_heading level0 row4\" >5</th>\n",
       "      <td id=\"T_77a29_row4_col0\" class=\"data row4 col0\" >Extra Trees</td>\n",
       "      <td id=\"T_77a29_row4_col1\" class=\"data row4 col1\" >0.196629</td>\n",
       "      <td id=\"T_77a29_row4_col2\" class=\"data row4 col2\" >0.196629</td>\n",
       "      <td id=\"T_77a29_row4_col3\" class=\"data row4 col3\" >0.196629</td>\n",
       "      <td id=\"T_77a29_row4_col4\" class=\"data row4 col4\" >0.803371</td>\n",
       "      <td id=\"T_77a29_row4_col5\" class=\"data row4 col5\" >0.131648</td>\n",
       "    </tr>\n",
       "    <tr>\n",
       "      <th id=\"T_77a29_level0_row5\" class=\"row_heading level0 row5\" >6</th>\n",
       "      <td id=\"T_77a29_row5_col0\" class=\"data row5 col0\" >KNN</td>\n",
       "      <td id=\"T_77a29_row5_col1\" class=\"data row5 col1\" >0.207865</td>\n",
       "      <td id=\"T_77a29_row5_col2\" class=\"data row5 col2\" >0.207865</td>\n",
       "      <td id=\"T_77a29_row5_col3\" class=\"data row5 col3\" >0.207865</td>\n",
       "      <td id=\"T_77a29_row5_col4\" class=\"data row5 col4\" >0.792135</td>\n",
       "      <td id=\"T_77a29_row5_col5\" class=\"data row5 col5\" >0.002029</td>\n",
       "    </tr>\n",
       "    <tr>\n",
       "      <th id=\"T_77a29_level0_row6\" class=\"row_heading level0 row6\" >7</th>\n",
       "      <td id=\"T_77a29_row6_col0\" class=\"data row6 col0\" >Decision Tree</td>\n",
       "      <td id=\"T_77a29_row6_col1\" class=\"data row6 col1\" >0.207865</td>\n",
       "      <td id=\"T_77a29_row6_col2\" class=\"data row6 col2\" >0.207865</td>\n",
       "      <td id=\"T_77a29_row6_col3\" class=\"data row6 col3\" >0.207865</td>\n",
       "      <td id=\"T_77a29_row6_col4\" class=\"data row6 col4\" >0.792135</td>\n",
       "      <td id=\"T_77a29_row6_col5\" class=\"data row6 col5\" >0.001984</td>\n",
       "    </tr>\n",
       "    <tr>\n",
       "      <th id=\"T_77a29_level0_row7\" class=\"row_heading level0 row7\" >8</th>\n",
       "      <td id=\"T_77a29_row7_col0\" class=\"data row7 col0\" >Bagging</td>\n",
       "      <td id=\"T_77a29_row7_col1\" class=\"data row7 col1\" >0.219101</td>\n",
       "      <td id=\"T_77a29_row7_col2\" class=\"data row7 col2\" >0.219101</td>\n",
       "      <td id=\"T_77a29_row7_col3\" class=\"data row7 col3\" >0.219101</td>\n",
       "      <td id=\"T_77a29_row7_col4\" class=\"data row7 col4\" >0.780899</td>\n",
       "      <td id=\"T_77a29_row7_col5\" class=\"data row7 col5\" >0.020944</td>\n",
       "    </tr>\n",
       "    <tr>\n",
       "      <th id=\"T_77a29_level0_row8\" class=\"row_heading level0 row8\" >9</th>\n",
       "      <td id=\"T_77a29_row8_col0\" class=\"data row8 col0\" >Logistic Regression</td>\n",
       "      <td id=\"T_77a29_row8_col1\" class=\"data row8 col1\" >0.224719</td>\n",
       "      <td id=\"T_77a29_row8_col2\" class=\"data row8 col2\" >0.224719</td>\n",
       "      <td id=\"T_77a29_row8_col3\" class=\"data row8 col3\" >0.224719</td>\n",
       "      <td id=\"T_77a29_row8_col4\" class=\"data row8 col4\" >0.775281</td>\n",
       "      <td id=\"T_77a29_row8_col5\" class=\"data row8 col5\" >0.010992</td>\n",
       "    </tr>\n",
       "    <tr>\n",
       "      <th id=\"T_77a29_level0_row9\" class=\"row_heading level0 row9\" >10</th>\n",
       "      <td id=\"T_77a29_row9_col0\" class=\"data row9 col0\" >Naive Bayes</td>\n",
       "      <td id=\"T_77a29_row9_col1\" class=\"data row9 col1\" >0.258427</td>\n",
       "      <td id=\"T_77a29_row9_col2\" class=\"data row9 col2\" >0.258427</td>\n",
       "      <td id=\"T_77a29_row9_col3\" class=\"data row9 col3\" >0.258427</td>\n",
       "      <td id=\"T_77a29_row9_col4\" class=\"data row9 col4\" >0.741573</td>\n",
       "      <td id=\"T_77a29_row9_col5\" class=\"data row9 col5\" >0.000998</td>\n",
       "    </tr>\n",
       "  </tbody>\n",
       "</table>\n"
      ],
      "text/plain": [
       "<pandas.io.formats.style.Styler at 0x220e84d3310>"
      ]
     },
     "execution_count": 17,
     "metadata": {},
     "output_type": "execute_result"
    }
   ],
   "source": [
    "results = pd.DataFrame({'Model': [], 'MSE': [], 'MAE': [], \" % error\": [], 'Accuracy Score': [], 'Time': []})\n",
    "\n",
    "for model_name, model in estimators.items():\n",
    "    \n",
    "    start_time = time.time()\n",
    "    model.fit(X_train, y_train)\n",
    "    total_time = time.time() - start_time\n",
    "        \n",
    "    pred = model.predict(X_test)\n",
    "    \n",
    "    results = pd.concat([results, pd.DataFrame({\"Model\":    [model_name],\n",
    "                                                 \"MSE\": [metrics.mean_squared_error(y_test, pred)],\n",
    "                                                 \"MAE\": [metrics.mean_absolute_error(y_test, pred)],\n",
    "                                                 \" % error\": [metrics.mean_squared_error(y_test, pred)], #/ rang,\n",
    "                                                 \"Accuracy Score\": [model.score(X_test,y_test)],\n",
    "                                                 \"Time\":     [total_time]})], ignore_index=True)\n",
    "\n",
    "results_ord = results.sort_values(by=['MSE'], ascending=True, ignore_index=True)\n",
    "results_ord.index += 1 \n",
    "results_ord.style.bar(subset=['MSE', 'MAE'], vmin=0, vmax=100, color='#5fba7d')\n"
   ]
  },
  {
   "cell_type": "code",
   "execution_count": 18,
   "metadata": {},
   "outputs": [],
   "source": [
    "#importing GradientBoostingClassifier()\n",
    "from sklearn.ensemble import GradientBoostingClassifier"
   ]
  },
  {
   "cell_type": "code",
   "execution_count": 19,
   "metadata": {},
   "outputs": [
    {
     "name": "stdout",
     "output_type": "stream",
     "text": [
      "The accuracy score of the model is: 83.71%.\n"
     ]
    }
   ],
   "source": [
    "model = GradientBoostingClassifier(n_estimators=150)\n",
    "model.fit(X_train, y_train)\n",
    "preds_val = model.predict(X_test)\n",
    "acc_score = accuracy_score(y_test, preds_val)\n",
    "print(f'The accuracy score of the model is: {(acc_score*100):.2f}%.')\n"
   ]
  },
  {
   "cell_type": "code",
   "execution_count": 20,
   "metadata": {},
   "outputs": [],
   "source": [
    "#saving the model\n",
    "import pickle\n",
    "pickle.dump(model, open('model.pkl','wb'))"
   ]
  },
  {
   "cell_type": "code",
   "execution_count": 21,
   "metadata": {},
   "outputs": [],
   "source": [
    "#loading the model\n",
    "model = pickle.load(open('model.pkl','rb'))"
   ]
  },
  {
   "cell_type": "code",
   "execution_count": 22,
   "metadata": {},
   "outputs": [
    {
     "name": "stdout",
     "output_type": "stream",
     "text": [
      "[1]\n"
     ]
    }
   ],
   "source": [
    "#testing the model\n",
    "print(model.predict([[3,35.0,0,0,1,0,0,1]]))"
   ]
  },
  {
   "cell_type": "code",
   "execution_count": 24,
   "metadata": {},
   "outputs": [
    {
     "name": "stdout",
     "output_type": "stream",
     "text": [
      "You are likely to survive\n"
     ]
    }
   ],
   "source": [
    "#getting imput from the user\n",
    "Pclass = int(input(\"Enter the Passenger class: \"))\n",
    "Age = int(input(\"Enter the Age: \"))\n",
    "SibSp = int(input(\"Enter number of Siblings: \"))\n",
    "Parch = int(input(\"Enter the number of Parents: \"))\n",
    "Gender = input(\"Enter your Gender:\")\n",
    "Embarked = input(\"Enter the Embarked: \")\n",
    "if Gender == 'male':\n",
    "    Gender = 1\n",
    "else:\n",
    "    Gender = 0\n",
    "\n",
    "if Embarked == 'S':\n",
    "    Embarked_C = 0\n",
    "    Embarked_Q = 0\n",
    "    Embarked_S = 1\n",
    "elif Embarked == 'C':\n",
    "    Embarked_C = 1\n",
    "    Embarked_Q = 0\n",
    "    Embarked_S = 0\n",
    "else:\n",
    "    Embarked_C = 0\n",
    "    Embarked_Q = 1\n",
    "    Embarked_S = 0\n",
    "\n",
    "#predicting the result\n",
    "pred = model.predict([[Pclass, Age, SibSp, Parch, Gender, Embarked_C, Embarked_Q, Embarked_S]])\n",
    "if pred == 1:\n",
    "    print('You are likely to survive')\n",
    "else:\n",
    "    print('You are likely to die')\n",
    "\n"
   ]
  }
 ],
 "metadata": {
  "kernelspec": {
   "display_name": "env",
   "language": "python",
   "name": "python3"
  },
  "language_info": {
   "codemirror_mode": {
    "name": "ipython",
    "version": 3
   },
   "file_extension": ".py",
   "mimetype": "text/x-python",
   "name": "python",
   "nbconvert_exporter": "python",
   "pygments_lexer": "ipython3",
   "version": "3.11.3"
  },
  "orig_nbformat": 4
 },
 "nbformat": 4,
 "nbformat_minor": 2
}
